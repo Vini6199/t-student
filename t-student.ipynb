{
 "cells": [
  {
   "cell_type": "markdown",
   "metadata": {},
   "source": [
    "### O que é o t de Student?\n",
    "\n",
    "O **t de Student** é uma distribuição de probabilidade usada para fazer inferências estatísticas sobre a média de uma população, especialmente quando a **amostra é pequena** (geralmente \\( n < 30 \\)) e o desvio padrão da população não é conhecido.\n",
    "\n",
    "### Para que serve o t de Student?\n",
    "\n",
    "A distribuição t de Student é usada principalmente em **testes de hipóteses** e na **construção de intervalos de confiança** quando se trabalha com amostras pequenas. Ela é uma ferramenta fundamental em estatísticas inferenciais, e seu uso está relacionado a situações em que o tamanho da amostra é limitado ou o desvio padrão da população é desconhecido.\n",
    "\n",
    "#### Principais usos do t de Student:\n",
    "\n",
    "1. **Testes de Hipóteses para a Média**:\n",
    "   - O teste t é utilizado para verificar se a média de uma amostra é significativamente diferente de um valor específico ou de outra média. \n",
    "   - Exemplos de testes incluem:\n",
    "     - **Teste t unilateral**: Para verificar se a média de uma amostra é maior ou menor que a média da população (ou de outro grupo).\n",
    "     - **Teste t bilateral**: Para verificar se a média da amostra é diferente da média da população, sem especificar se será maior ou menor.\n",
    "\n",
    "2. **Construção de Intervalos de Confiança**:\n",
    "   - O t de Student é usado para calcular intervalos de confiança em torno da média amostral quando o tamanho da amostra é pequeno ou o desvio padrão é desconhecido. \n",
    "   - O intervalo de confiança ajuda a estimar o intervalo no qual a verdadeira média da população provavelmente se encontra.\n",
    "\n",
    "\n",
    "### Diferença entre o t de Student e a distribuição normal (z-score)\n",
    "\n",
    "A distribuição t de Student é usada quando:\n",
    "- **Tamanho da amostra é pequeno** (tipicamente \\( n < 30 \\)).\n",
    "- **Desvio padrão da população é desconhecido**.\n",
    "\n",
    "A distribuição **normal** (usada para o z-score) é usada quando:\n",
    "- O **tamanho da amostra é grande** (geralmente \\( n > 30 \\)).\n",
    "- O desvio padrão da **população é conhecido**.\n"
   ]
  },
  {
   "cell_type": "markdown",
   "metadata": {},
   "source": [
    "### **Case: Avaliação de um novo medicamento**\n",
    "\n",
    "Suponha que sejamos pesquisadores que estão avaliando um novo medicamento para reduzir a pressão arterial. Temos um grupo de 10 pacientes e desejamos testar se o novo medicamento reduz a pressão arterial média em relação à pressão arterial normal.\n",
    "\n",
    "A pressão arterial média de uma população saudável (sem o medicamento) é conhecida e é de **120 mmHg**. Temos a amostra de 10 pacientes que tomaram o medicamento, e mediu sua pressão arterial após 30 dias de uso.\n",
    "\n",
    "#### Passos do estudo:\n",
    "\n",
    "1. **Formular as hipóteses:**\n",
    "\n",
    "Queremos testar se o medicamento **reduziu** a pressão arterial média dos pacientes. Suas hipóteses são:\n",
    "\n",
    "- **Hipótese nula (H₀)**: O medicamento **não tem efeito**, ou seja, a pressão arterial média é **120 mmHg**.\n",
    "\n",
    "  H₀ = 120 \n",
    "\n",
    "- **Hipótese alternativa (H₁)**: O medicamento **reduziu** a pressão arterial média, ou seja, a média é **menor** que 120 mmHg.\n",
    "\n",
    "  H₁ < 120 \n"
   ]
  },
  {
   "cell_type": "markdown",
   "metadata": {},
   "source": [
    "2. **Recebemos os dados dos pacientes depois desses 30 dias:**"
   ]
  },
  {
   "cell_type": "code",
   "execution_count": 2,
   "metadata": {},
   "outputs": [],
   "source": [
    "x = [118,115,122,120,119,117,121,113,116,118]"
   ]
  },
  {
   "cell_type": "code",
   "execution_count": 3,
   "metadata": {},
   "outputs": [
    {
     "data": {
      "image/png": "[encoded data removed]",
      "text/plain": [
       "<Figure size 640x480 with 1 Axes>"
      ]
     },
     "metadata": {},
     "output_type": "display_data"
    }
   ],
   "source": [
    "import matplotlib.pyplot as plt\n",
    "\n",
    "plt.hist(x, bins = len(x), edgecolor = 'black')\n",
    "plt.title('DIstribuição dos dados')\n",
    "plt.xlabel('Valores')\n",
    "plt.ylabel('Frequência')\n",
    "\n",
    "plt.show()"
   ]
  },
  {
   "cell_type": "markdown",
   "metadata": {},
   "source": [
    "3. **Descobrimos a média dessa amostra**"
   ]
  },
  {
   "cell_type": "code",
   "execution_count": 4,
   "metadata": {},
   "outputs": [
    {
     "name": "stdout",
     "output_type": "stream",
     "text": [
      "A média dos dados é 117.9\n"
     ]
    }
   ],
   "source": [
    "import statistics\n",
    "\n",
    "media = statistics.mean(x)\n",
    "print(f\"A média dos dados é {media}\")"
   ]
  },
  {
   "cell_type": "markdown",
   "metadata": {},
   "source": [
    "4. Um dos motivos de usarmos o t-student, é não conhecermos o **desvio padrão populacional**, sendo assim, temos que descobrir e usar o **desvio padrão amostral (s)** para darmos continuidade"
   ]
  },
  {
   "cell_type": "code",
   "execution_count": 5,
   "metadata": {},
   "outputs": [
    {
     "name": "stdout",
     "output_type": "stream",
     "text": [
      "O desvio padrão amostral é: 2.766867462592951\n"
     ]
    }
   ],
   "source": [
    "desv_amost = statistics.stdev(x)\n",
    "print(f\"O desvio padrão amostral é: {desv_amost}\")"
   ]
  },
  {
   "cell_type": "markdown",
   "metadata": {},
   "source": [
    "5. **Agora já podemos calcular o valor t**\n",
    "### Cálculo do valor t\n",
    "\n",
    "O valor t é calculado utilizando a seguinte fórmula:\n",
    "\n",
    "$$\n",
    "t = \\frac{\\bar{x} - \\mu_0}{\\frac{s}{\\sqrt{n}}}\n",
    "$$\n",
    "\n",
    "Onde:\n",
    "\n",
    "- \\( x barra \\) é a **média da amostra**,\n",
    "- \\( μ0 \\) é a **média da população** (ou valor da hipótese nula),\n",
    "- \\( s \\) é o **desvio padrão da amostra**,\n",
    "- \\( n \\) é o **tamanho da amostra**."
   ]
  },
  {
   "cell_type": "code",
   "execution_count": null,
   "metadata": {},
   "outputs": [
    {
     "name": "stdout",
     "output_type": "stream",
     "text": [
      "Valor de t: -2.4001088509422903 e de p: 0.039890766746083016\n"
     ]
    }
   ],
   "source": [
    "from scipy import stats\n",
    "\n",
    "t_stat, p_value = stats.ttest_1samp(x, 120)\n",
    "\n",
    "print(f\"Valor de t: {t_stat} e valor de p: {p_value}\")"
   ]
  },
  {
   "cell_type": "markdown",
   "metadata": {},
   "source": [
    "**O valor t de -2.4001 indica que a média da amostra (117.9) está 2.4 desvios padrão abaixo da média hipotética (120)**. Esse valor sugere que a diferença entre a média da amostra e a média hipotética é relativamente grande em comparação com a variabilidade dos dados.\n",
    "Para um valor t de -2.4001, consultariamos uma tabela de distribuição t para calcular o p-valor, mas a função **stats.ttest_1samp** já me retornou o p-valor baseado nesse valor de t.\n",
    "\n",
    "Dado que **meu p valor é menor que o nível se significância de 5%**, posso afirmar que um valor tão extremo não foi retornado por acaso dado que a hipótese nula é verdadeira, logo, **posso rejeitar a hipótese nula**, e afirmar que meu remédio de teste fez diferença para meus pacientes.\n",
    "\n",
    "Lembrando que foi um teste unilateral para saber se a pressão diminuia de maneira estatisticamente significante."
   ]
  },
  {
   "cell_type": "markdown",
   "metadata": {},
   "source": [
    "### 1. **Valor t**\n",
    "- Mede a diferença entre a **média da amostra** e a **média hipotética/comparativa** em unidades do erro padrão.\n",
    "- Quanto maior o valor t (em valor absoluto), **maior a diferença** entre a média da amostra e a média hipotética, indicando **maior significância**.\n",
    "- O valor t ajuda a determinar se a média da amostra é estatisticamente diferente da média hipotética.\n",
    "\n",
    "### 2. **P-valor**\n",
    "- É a probabilidade de observar uma diferença tão grande quanto a observada (ou mais extrema), **assumindo que a hipótese nula seja verdadeira**.\n",
    "- Se o p-valor é **baixo** (geralmente menor que 0.05), isso significa que a diferença observada é **pouco provável de ocorrer por acaso**, então **rejeitamos a hipótese nula**.\n",
    "- Se o p-valor é **alto**, a diferença observada pode ser explicada pelo acaso, e **não rejeitamos a hipótese nula**.\n",
    "- O p-valor não é uma \"probabilidade do valor t\", mas sim uma **probabilidade associada à estatística t**.\n",
    "\n",
    "### 3. **Grau de Liberdade (df)**\n",
    "- **Graus de liberdade (df)** referem-se ao número de valores independentes que podem variar ao calcular uma estatística.\n",
    "- No caso do **teste t de Student**, os graus de liberdade são geralmente calculados como:  \n",
    "  \\(df = n - 1\\), onde \\(n\\) é o tamanho da amostra.\n",
    "- O grau de liberdade influencia a forma da **distribuição t**: com menos graus de liberdade (amostras menores), a distribuição t é mais \"larga\", e com mais graus de liberdade (amostras grandes), ela se aproxima de uma distribuição normal."
   ]
  }
 ],
 "metadata": {
  "kernelspec": {
   "display_name": "Python 3",
   "language": "python",
   "name": "python3"
  },
  "language_info": {
   "codemirror_mode": {
    "name": "ipython",
    "version": 3
   },
   "file_extension": ".py",
   "mimetype": "text/x-python",
   "name": "python",
   "nbconvert_exporter": "python",
   "pygments_lexer": "ipython3",
   "version": "3.12.5"
  }
 },
 "nbformat": 4,
 "nbformat_minor": 2
}
